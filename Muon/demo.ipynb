{
 "cells": [
  {
   "cell_type": "code",
   "execution_count": null,
   "id": "7484bcfc",
   "metadata": {},
   "outputs": [
    {
     "ename": "ImportError",
     "evalue": "cannot import name 'backend_inline' from 'matplotlib.backends' (/usr/local/lib/python3.10/dist-packages/matplotlib/backends/__init__.py)",
     "output_type": "error",
     "traceback": [
      "\u001b[0;31m---------------------------------------------------------------------------\u001b[0m",
      "\u001b[0;31mImportError\u001b[0m                               Traceback (most recent call last)",
      "Cell \u001b[0;32mIn[2], line 1\u001b[0m\n\u001b[0;32m----> 1\u001b[0m \u001b[38;5;28;01mfrom\u001b[39;00m \u001b[38;5;21;01mmatplotlib\u001b[39;00m\u001b[38;5;21;01m.\u001b[39;00m\u001b[38;5;21;01mbackends\u001b[39;00m \u001b[38;5;28;01mimport\u001b[39;00m backend_inline\n",
      "\u001b[0;31mImportError\u001b[0m: cannot import name 'backend_inline' from 'matplotlib.backends' (/usr/local/lib/python3.10/dist-packages/matplotlib/backends/__init__.py)"
     ]
    }
   ],
   "source": [
    "# optimizer = torch.optim.AdamW(model.parameters(), lr=3e-4, betas=(0.90, 0.95), weight_decay=0.01)\n",
    "\n",
    "# To replace the above, do the following:\n",
    "from muon import MuonWithAuxAdam\n",
    "import torch\n",
    "import torch.nn as nn\n",
    "\n",
    "model = nn.Sequential(nn.Linear(100,2)) # for example\n",
    " \n",
    "\n",
    "hidden_weights = [p for p in model.body.parameters() if p.ndim >= 2]\n",
    "hidden_gains_biases = [p for p in model.body.parameters() if p.ndim < 2]\n",
    "nonhidden_params = [*model.head.parameters(), *model.embed.parameters()]\n",
    "param_groups = [\n",
    "    dict(params=hidden_weights, use_muon=True,\n",
    "         lr=0.02, weight_decay=0.01),\n",
    "    dict(params=hidden_gains_biases+nonhidden_params, use_muon=False,\n",
    "         lr=3e-4, betas=(0.9, 0.95), weight_decay=0.01),\n",
    "]\n",
    "optimizer = MuonWithAuxAdam(param_groups)"
   ]
  },
  {
   "cell_type": "markdown",
   "id": "6378db95",
   "metadata": {},
   "source": [
    "Muon is an optimizer for the hidden weights of a neural network. Other parameters, such as embeddings, classifier heads, and hidden gains/biases should be optimized using standard AdamW. \n",
    "\n",
    "You'll have to replace ```model.body```, ```model.head```, and ```model.embed``` with whatever is appropriate for your model. E.g., for a ConvNet, you should use Muon to optimize all the convolutional filters except the first one, and AdamW to optimize everything else."
   ]
  }
 ],
 "metadata": {
  "kernelspec": {
   "display_name": "Python 3",
   "language": "python",
   "name": "python3"
  },
  "language_info": {
   "codemirror_mode": {
    "name": "ipython",
    "version": 3
   },
   "file_extension": ".py",
   "mimetype": "text/x-python",
   "name": "python",
   "nbconvert_exporter": "python",
   "pygments_lexer": "ipython3",
   "version": "3.10.12"
  }
 },
 "nbformat": 4,
 "nbformat_minor": 5
}
